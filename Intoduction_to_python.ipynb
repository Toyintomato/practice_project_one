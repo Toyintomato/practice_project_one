{
 "cells": [
  {
   "cell_type": "markdown",
   "id": "2f8c69e1",
   "metadata": {},
   "source": [
    "### Concepts"
   ]
  },
  {
   "cell_type": "raw",
   "id": "1d0ae55c",
   "metadata": {},
   "source": [
    "1. variables and data types\n",
    "2. conditionals and string methods\n",
    "3. list and list methods\n",
    "4. slicing and indexing\n",
    "5. loops (forloops, while loops)\n",
    "6. list comprehension and matrixes\n",
    "7. Reading writing of files and Functions\n",
    "8. Dictionaries\n",
    "9. classes and objects\n",
    "10. Time and complexity analysis\n",
    "11. Introduction to Series and DataFrames\n",
    "12. Python Data manipulation libraries (Pandas and numpy)\n",
    "13. Reading data in python (csv, xlxs, json, txt)\n",
    "14. Data wrangling in python and data joining (concat, merge, append)\n",
    "15. Exploratory data analysis in python and Statistical concepts\n",
    "16. Answering business questions with python\n",
    "17. Data visualization (Seaborn and matplotlib)\n",
    "18. Data reporting\n",
    "\n",
    "Bonus\n",
    "19. Introduction to business modelling using regressiona and time series forecasting.\n",
    "20. introduction to machine learning using supervised and unsupervised algorithm.\n",
    "21. Data strategy, data product managment and Data governance"
   ]
  },
  {
   "cell_type": "markdown",
   "id": "6595cd86",
   "metadata": {},
   "source": [
    "#### Day one"
   ]
  },
  {
   "cell_type": "code",
   "execution_count": 9,
   "id": "8845df79",
   "metadata": {},
   "outputs": [
    {
     "name": "stdout",
     "output_type": "stream",
     "text": [
      "hello\n",
      "1235\n"
     ]
    }
   ],
   "source": [
    "print(\"hello\")\n",
    "print(\"123\" + \"5\")"
   ]
  },
  {
   "cell_type": "code",
   "execution_count": 13,
   "id": "c45dca21",
   "metadata": {},
   "outputs": [
    {
     "data": {
      "text/plain": [
       "float"
      ]
     },
     "execution_count": 13,
     "metadata": {},
     "output_type": "execute_result"
    }
   ],
   "source": [
    "a = 345.5\n",
    "type(a)"
   ]
  },
  {
   "cell_type": "code",
   "execution_count": 16,
   "id": "4c0e65f0",
   "metadata": {},
   "outputs": [
    {
     "name": "stdout",
     "output_type": "stream",
     "text": [
      "toyin is 19 years\n"
     ]
    }
   ],
   "source": [
    "a = \"toyin\"\n",
    "b = 19\n",
    "###format string methods\n",
    "print(f\"{a} is {b} years\")"
   ]
  },
  {
   "cell_type": "code",
   "execution_count": 19,
   "id": "2c66cd56",
   "metadata": {},
   "outputs": [
    {
     "name": "stdout",
     "output_type": "stream",
     "text": [
      "enter name: john\n",
      "enter a number: 16\n",
      "john is 16 years old\n"
     ]
    }
   ],
   "source": [
    "x = input(\"enter name: \")\n",
    "y = input(\"enter a number: \")\n",
    "print(f\"{x} is {y} years old\")"
   ]
  },
  {
   "cell_type": "code",
   "execution_count": 22,
   "id": "74a773b1",
   "metadata": {},
   "outputs": [
    {
     "name": "stdout",
     "output_type": "stream",
     "text": [
      "enter number 1: 20\n",
      "enter a number 2: 15\n",
      " the sum of a and b is 35.0\n"
     ]
    }
   ],
   "source": [
    "a = float(input(\"enter number 1: \"))\n",
    "b = float(input(\"enter a number 2: \"))\n",
    "print(f\" the sum of a and b is {a+b}\")"
   ]
  },
  {
   "cell_type": "code",
   "execution_count": 24,
   "id": "e932324d",
   "metadata": {},
   "outputs": [
    {
     "name": "stdout",
     "output_type": "stream",
     "text": [
      "enter your name: shade\n",
      "enter your year of birth: 1997\n",
      "shade is 25 years old\n"
     ]
    }
   ],
   "source": [
    "name = input(\"enter your name: \")\n",
    "year_birth = int(input(\"enter your year of birth: \"))\n",
    "print(f\"{name} is {2022-year_birth} years old\")"
   ]
  },
  {
   "cell_type": "code",
   "execution_count": 29,
   "id": "35c8267c",
   "metadata": {},
   "outputs": [
    {
     "name": "stdout",
     "output_type": "stream",
     "text": [
      "enter message: LEmon\n",
      "buy\n"
     ]
    }
   ],
   "source": [
    "get_me = input('enter message: ').lower()\n",
    "if get_me == \"tomatoes\":\n",
    "    print(\"buy\")\n",
    "elif get_me == \"lemon\":\n",
    "    print(\"buy\")\n",
    "elif get_me == \"bread\":\n",
    "    print(\"buy\")\n",
    "else:\n",
    "    print(\"coundnt find any\")"
   ]
  },
  {
   "cell_type": "raw",
   "id": "4771b86e",
   "metadata": {},
   "source": [
    "c = 5/9 * (f + 32)\n",
    "f = 9/5 * (c - 32)"
   ]
  },
  {
   "cell_type": "code",
   "execution_count": 35,
   "id": "815868ab",
   "metadata": {},
   "outputs": [
    {
     "name": "stdout",
     "output_type": "stream",
     "text": [
      "enter temperature input value: 22\n",
      "enter unit f/c: C\n",
      "the temperature value from 22.0c is -18.0fahrenheit\n"
     ]
    }
   ],
   "source": [
    "temp_value = float(input(\"enter temperature input value: \"))\n",
    "unit = input(\"enter unit f/c: \").lower()\n",
    "if unit == \"f\":\n",
    "    celcuis = round(5/9 * (temp_value + 32), 3)\n",
    "    print(f\"the temperature value from {temp_value}{unit} is {celcuis}celcuis\")\n",
    "\n",
    "elif unit == \"c\":\n",
    "    fahr = round(9/5 * (temp_value - 32), 3)\n",
    "    print(f\"the temperature value from {temp_value}{unit} is {fahr}fahrenheit\")\n",
    "\n",
    "else:\n",
    "    print(\"input not understood!!!!\")"
   ]
  },
  {
   "cell_type": "code",
   "execution_count": 44,
   "id": "191d3e7c",
   "metadata": {},
   "outputs": [],
   "source": [
    "value = \"james\"\n",
    "#a.index(\"m\")"
   ]
  },
  {
   "cell_type": "code",
   "execution_count": 55,
   "id": "29aaf5f2",
   "metadata": {},
   "outputs": [
    {
     "name": "stdout",
     "output_type": "stream",
     "text": [
      "enter sub string values: h\n",
      "ia\n"
     ]
    }
   ],
   "source": [
    "value = \"cynthia\"\n",
    "sub_string = input('enter sub string values: ')\n",
    "k = value.index(sub_string)\n",
    "right_values = value[k+1: ]\n",
    "print(right_values)"
   ]
  },
  {
   "cell_type": "code",
   "execution_count": 53,
   "id": "9d514d24",
   "metadata": {},
   "outputs": [
    {
     "data": {
      "text/plain": [
       "'ool'"
      ]
     },
     "execution_count": 53,
     "metadata": {},
     "output_type": "execute_result"
    }
   ],
   "source": [
    "a = \"cool\"\n",
    "a[1:]"
   ]
  },
  {
   "cell_type": "code",
   "execution_count": 1,
   "id": "734c56a4",
   "metadata": {},
   "outputs": [
    {
     "data": {
      "text/plain": [
       "6"
      ]
     },
     "execution_count": 1,
     "metadata": {},
     "output_type": "execute_result"
    }
   ],
   "source": [
    "#assignment\n",
    "n = \"tobechukwuigia\"\n",
    "n.index(\"u\")"
   ]
  },
  {
   "cell_type": "markdown",
   "id": "5b370f64",
   "metadata": {},
   "source": [
    "### List and string manipulation"
   ]
  },
  {
   "cell_type": "code",
   "execution_count": 10,
   "id": "3685ae1a",
   "metadata": {},
   "outputs": [
    {
     "data": {
      "text/plain": [
       "'j'"
      ]
     },
     "execution_count": 10,
     "metadata": {},
     "output_type": "execute_result"
    }
   ],
   "source": [
    "h = \"jakeson/abiba\"\n",
    "h[0]"
   ]
  },
  {
   "cell_type": "code",
   "execution_count": 13,
   "id": "a6e411fd",
   "metadata": {},
   "outputs": [
    {
     "data": {
      "text/plain": [
       "'tope adamu'"
      ]
     },
     "execution_count": 13,
     "metadata": {},
     "output_type": "execute_result"
    }
   ],
   "source": [
    "k = [\"tope adamu\", \"kate milla\", \"femi ore\"]\n",
    "k[0]"
   ]
  },
  {
   "cell_type": "code",
   "execution_count": 15,
   "id": "44965197",
   "metadata": {},
   "outputs": [
    {
     "data": {
      "text/plain": [
       "['tope', 'adamu']"
      ]
     },
     "execution_count": 15,
     "metadata": {},
     "output_type": "execute_result"
    }
   ],
   "source": [
    "k[0].split()"
   ]
  },
  {
   "cell_type": "code",
   "execution_count": 12,
   "id": "355d2235",
   "metadata": {},
   "outputs": [
    {
     "data": {
      "text/plain": [
       "['jakeson', 'abiba']"
      ]
     },
     "execution_count": 12,
     "metadata": {},
     "output_type": "execute_result"
    }
   ],
   "source": [
    "h.split(\"/\")"
   ]
  },
  {
   "cell_type": "code",
   "execution_count": 22,
   "id": "afe77126",
   "metadata": {},
   "outputs": [
    {
     "name": "stdout",
     "output_type": "stream",
     "text": [
      "+236#81#765#91915\n"
     ]
    }
   ],
   "source": [
    "phone_number = \"+236-81-765-91915\"\n",
    "b = phone_number.split(\"-\")\n",
    "d = \"#\".join(b)\n",
    "print(d)"
   ]
  },
  {
   "cell_type": "code",
   "execution_count": null,
   "id": "66b07b3b",
   "metadata": {},
   "outputs": [],
   "source": [
    "###split method is a string\n",
    "### join method is an array or list method"
   ]
  },
  {
   "cell_type": "code",
   "execution_count": 24,
   "id": "35b1efe3",
   "metadata": {},
   "outputs": [
    {
     "name": "stdout",
     "output_type": "stream",
     "text": [
      "0\n",
      "1\n",
      "2\n",
      "3\n",
      "4\n",
      "5\n",
      "6\n",
      "7\n",
      "8\n",
      "9\n",
      "10\n"
     ]
    }
   ],
   "source": [
    "for i in range(0, 10+1):\n",
    "    print(i)"
   ]
  },
  {
   "cell_type": "code",
   "execution_count": 25,
   "id": "2e37d8f2",
   "metadata": {},
   "outputs": [
    {
     "name": "stdout",
     "output_type": "stream",
     "text": [
      "10\n",
      "15\n",
      "21\n",
      "30\n",
      "6\n"
     ]
    }
   ],
   "source": [
    "a = [10 , 15, 21, 30, 6]\n",
    "for i in a:\n",
    "    print(i)"
   ]
  },
  {
   "cell_type": "code",
   "execution_count": 27,
   "id": "982ce5e9",
   "metadata": {},
   "outputs": [
    {
     "data": {
      "text/plain": [
       "['tope adamu', 'kate milla', 'femi ore']"
      ]
     },
     "execution_count": 27,
     "metadata": {},
     "output_type": "execute_result"
    }
   ],
   "source": [
    "k"
   ]
  },
  {
   "cell_type": "code",
   "execution_count": 35,
   "id": "03d7934b",
   "metadata": {},
   "outputs": [
    {
     "data": {
      "text/plain": [
       "['tope', 'adamu']"
      ]
     },
     "execution_count": 35,
     "metadata": {},
     "output_type": "execute_result"
    }
   ],
   "source": [
    "k[0].split()"
   ]
  },
  {
   "cell_type": "code",
   "execution_count": 51,
   "id": "657a4b15",
   "metadata": {},
   "outputs": [
    {
     "name": "stdout",
     "output_type": "stream",
     "text": [
      "<class 'str'>\n",
      "<class 'str'>\n",
      "<class 'str'>\n"
     ]
    }
   ],
   "source": [
    "for n in k:\n",
    "    print(type(n))"
   ]
  },
  {
   "cell_type": "code",
   "execution_count": 32,
   "id": "92b0fd30",
   "metadata": {},
   "outputs": [
    {
     "data": {
      "text/plain": [
       "list"
      ]
     },
     "execution_count": 32,
     "metadata": {},
     "output_type": "execute_result"
    }
   ],
   "source": [
    "type(k)"
   ]
  },
  {
   "cell_type": "code",
   "execution_count": 50,
   "id": "c71b89ec",
   "metadata": {},
   "outputs": [
    {
     "name": "stdout",
     "output_type": "stream",
     "text": [
      "['Tope', 'Kate', 'Femi']\n",
      "['Adamu', 'Milla', 'Ore']\n"
     ]
    }
   ],
   "source": [
    "first_name = []\n",
    "second_name = []\n",
    "for n in k:\n",
    "    b = n.split()[0][0].upper() + n.split()[0][1:]\n",
    "    d = n.split()[1][0].upper() + n.split()[1][1:]\n",
    "    first_name.append(b)\n",
    "    second_name.append(d)\n",
    "print(first_name)\n",
    "print(second_name)"
   ]
  },
  {
   "cell_type": "code",
   "execution_count": 48,
   "id": "b8fb2ab8",
   "metadata": {},
   "outputs": [
    {
     "name": "stdout",
     "output_type": "stream",
     "text": [
      "[1, 5, 10, ['lem', 'fin', 'tan']]\n"
     ]
    }
   ],
   "source": [
    "t = [\"lem\", \"fin\", \"tan\"]\n",
    "array_list = [1, 5, 10]\n",
    "array_list.append(t)\n",
    "print(array_list)"
   ]
  },
  {
   "cell_type": "code",
   "execution_count": 49,
   "id": "cefb3652",
   "metadata": {},
   "outputs": [
    {
     "name": "stdout",
     "output_type": "stream",
     "text": [
      "[1, 5, 10, 'lem', 'fin', 'tan']\n"
     ]
    }
   ],
   "source": [
    "t = [\"lem\", \"fin\", \"tan\"]\n",
    "array_list = [1, 5, 10]\n",
    "for i in t:\n",
    "    array_list.append(i)\n",
    "print(array_list)"
   ]
  },
  {
   "cell_type": "code",
   "execution_count": 29,
   "id": "2d092c27",
   "metadata": {},
   "outputs": [],
   "source": [
    "# for d in h:\n",
    "#     print(d)"
   ]
  },
  {
   "cell_type": "code",
   "execution_count": 54,
   "id": "ab63cf7a",
   "metadata": {},
   "outputs": [
    {
     "name": "stdout",
     "output_type": "stream",
     "text": [
      "93\n"
     ]
    }
   ],
   "source": [
    "array_number = [10, 15, 21, 39, 8]\n",
    "add_me = 0\n",
    "\n",
    "for i in array_number:\n",
    "    add_me = i + add_me\n",
    "print(add_me)"
   ]
  },
  {
   "cell_type": "code",
   "execution_count": 56,
   "id": "e6682bd4",
   "metadata": {},
   "outputs": [
    {
     "name": "stdout",
     "output_type": "stream",
     "text": [
      "<class 'bool'>\n"
     ]
    }
   ],
   "source": [
    "a = False\n",
    "print(type(a))"
   ]
  },
  {
   "cell_type": "code",
   "execution_count": 59,
   "id": "ed03fb34",
   "metadata": {},
   "outputs": [
    {
     "name": "stdout",
     "output_type": "stream",
     "text": [
      "meka\n",
      "owen\n"
     ]
    }
   ],
   "source": [
    "list_array = [True, False, \"meka\", \"owen\", 19.5, 88, 4.12, 22]\n",
    "for i in list_array:\n",
    "    if type(i) == str:\n",
    "        print(i)"
   ]
  },
  {
   "cell_type": "code",
   "execution_count": 60,
   "id": "1b8662c4",
   "metadata": {},
   "outputs": [
    {
     "name": "stdout",
     "output_type": "stream",
     "text": [
      "[1, 2, 3, 4, 5, 6, 7, 8, 9, 10, 11, 12, 13, 14, 15, 16, 17, 18, 19, 20, 21, 22, 23, 24, 25, 26, 27, 28, 29, 30, 31, 32, 33, 34, 35, 36, 37, 38]\n"
     ]
    }
   ],
   "source": [
    "a = [i for i in range(1,39)]\n",
    "print(a)"
   ]
  },
  {
   "cell_type": "code",
   "execution_count": null,
   "id": "fb06212e",
   "metadata": {},
   "outputs": [],
   "source": []
  }
 ],
 "metadata": {
  "kernelspec": {
   "display_name": "Python 3 (ipykernel)",
   "language": "python",
   "name": "python3"
  },
  "language_info": {
   "codemirror_mode": {
    "name": "ipython",
    "version": 3
   },
   "file_extension": ".py",
   "mimetype": "text/x-python",
   "name": "python",
   "nbconvert_exporter": "python",
   "pygments_lexer": "ipython3",
   "version": "3.9.7"
  }
 },
 "nbformat": 4,
 "nbformat_minor": 5
}
